{
  "nbformat": 4,
  "nbformat_minor": 0,
  "metadata": {
    "colab": {
      "provenance": [],
      "authorship_tag": "ABX9TyM1kOzBCaX3R82mNSjls1HP",
      "include_colab_link": true
    },
    "kernelspec": {
      "name": "python3",
      "display_name": "Python 3"
    },
    "language_info": {
      "name": "python"
    }
  },
  "cells": [
    {
      "cell_type": "markdown",
      "metadata": {
        "id": "view-in-github",
        "colab_type": "text"
      },
      "source": [
        "<a href=\"https://colab.research.google.com/github/MahardikaDS/psd-encoded/blob/main/PSDTEST.ipynb\" target=\"_parent\"><img src=\"https://colab.research.google.com/assets/colab-badge.svg\" alt=\"Open In Colab\"/></a>"
      ]
    },
    {
      "cell_type": "code",
      "execution_count": 5,
      "metadata": {
        "colab": {
          "base_uri": "https://localhost:8080/"
        },
        "id": "ib6TZAtBwx9_",
        "outputId": "8a2f587e-928a-48d6-8ed2-feb4e3ae6c04"
      },
      "outputs": [
        {
          "output_type": "stream",
          "name": "stdout",
          "text": [
            "[0 3 1 0 2 3]\n"
          ]
        }
      ],
      "source": [
        "from sklearn.preprocessing import LabelEncoder\n",
        "\n",
        "data = ['apel', 'pisang', 'jeruk', 'apel', 'mangga', 'pisang']\n",
        "label_encoder = LabelEncoder()\n",
        "data_encoded = label_encoder.fit_transform(data)\n",
        "print(data_encoded)\n"
      ]
    },
    {
      "cell_type": "code",
      "source": [
        "import pandas as pd\n",
        "\n",
        "data = ['apel', 'pisang', 'jeruk', 'apel', 'mangga', 'pisang']\n",
        "one_hot_encoder = pd.get_dummies(data)\n",
        "print(one_hot_encoder)"
      ],
      "metadata": {
        "colab": {
          "base_uri": "https://localhost:8080/"
        },
        "id": "fH7_QPKHxk0l",
        "outputId": "7ebfbe56-d838-403b-eec2-fd7a15501337"
      },
      "execution_count": 6,
      "outputs": [
        {
          "output_type": "stream",
          "name": "stdout",
          "text": [
            "    apel  jeruk  mangga  pisang\n",
            "0   True  False   False   False\n",
            "1  False  False   False    True\n",
            "2  False   True   False   False\n",
            "3   True  False   False   False\n",
            "4  False  False    True   False\n",
            "5  False  False   False    True\n"
          ]
        }
      ]
    },
    {
      "cell_type": "code",
      "source": [
        "from sklearn.preprocessing import OrdinalEncoder\n",
        "\n",
        "data = [['Low'], ['Medium'], ['Medium'], ['High'], ['High'], ['Low']]\n",
        "ordinal_encoder = OrdinalEncoder()\n",
        "data_encoded = ordinal_encoder.fit_transform(data)\n",
        "print(data_encoded)"
      ],
      "metadata": {
        "colab": {
          "base_uri": "https://localhost:8080/"
        },
        "id": "mfICc9wPyuWP",
        "outputId": "498c1715-de87-4f75-f000-3671f03eae07"
      },
      "execution_count": 10,
      "outputs": [
        {
          "output_type": "stream",
          "name": "stdout",
          "text": [
            "[[1.]\n",
            " [2.]\n",
            " [2.]\n",
            " [0.]\n",
            " [0.]\n",
            " [1.]]\n"
          ]
        }
      ]
    },
    {
      "cell_type": "code",
      "source": [
        "import pandas as pd\n",
        "\n",
        "data = pd.DataFrame({'City': ['Paris', 'London', 'Berlin', 'Paris', 'Berlin'],\n",
        "                     'Target' : [1,0,1,0,1]})\n",
        "\n",
        "mean_target = data.groupby('City')['Target'].mean()\n",
        "\n",
        "data['City'] = data['City'].map(mean_target)\n",
        "print(data)"
      ],
      "metadata": {
        "colab": {
          "base_uri": "https://localhost:8080/"
        },
        "id": "gx5pvi8l0xPT",
        "outputId": "e422b3aa-e026-4d29-a0f5-3eb18a104e43"
      },
      "execution_count": 13,
      "outputs": [
        {
          "output_type": "stream",
          "name": "stdout",
          "text": [
            "   City  Target\n",
            "0   0.5       1\n",
            "1   0.0       0\n",
            "2   1.0       1\n",
            "3   0.5       0\n",
            "4   1.0       1\n"
          ]
        }
      ]
    },
    {
      "cell_type": "code",
      "source": [
        "import pandas as pd\n",
        "from sklearn.preprocessing import LabelEncoder\n",
        "\n",
        "data = pd.read_csv('PEKERJAAN.csv')\n",
        "print(data.to_string())\n",
        "print(\"OUTPUT\")\n",
        "\n",
        "label_encoder = LabelEncoder()\n",
        "data['PEKERJAAN_Encoded'] = label_encoder.fit_transform(data['PEKERJAAN'])\n",
        "\n",
        "print(data[['No', 'NAMA', 'USIA', 'PEKERJAAN_Encoded']].to_string())\n"
      ],
      "metadata": {
        "colab": {
          "base_uri": "https://localhost:8080/"
        },
        "id": "nHSTZDwc5OuN",
        "outputId": "d405d34c-9917-4019-f31d-63aac55bcf99"
      },
      "execution_count": 31,
      "outputs": [
        {
          "output_type": "stream",
          "name": "stdout",
          "text": [
            "   No   NAMA  USIA PEKERJAAN\n",
            "0   1  INTAN    21    DOKTOR\n",
            "1   2   BUDI    22     DOSEN\n",
            "2   3   ABDI    23      GURU\n",
            "3   4  BAGUS    24   TENTARA\n",
            "4   5   AMIR    25   TENTARA\n",
            "5   6   MIRA    26     DOSEN\n",
            "6   7   SUNA    27      GURU\n",
            "OUTPUT\n",
            "   No   NAMA  USIA  PEKERJAAN_Encoded\n",
            "0   1  INTAN    21                  0\n",
            "1   2   BUDI    22                  1\n",
            "2   3   ABDI    23                  2\n",
            "3   4  BAGUS    24                  3\n",
            "4   5   AMIR    25                  3\n",
            "5   6   MIRA    26                  1\n",
            "6   7   SUNA    27                  2\n"
          ]
        }
      ]
    },
    {
      "cell_type": "code",
      "source": [],
      "metadata": {
        "id": "q5CxFxrT-Z61"
      },
      "execution_count": null,
      "outputs": []
    }
  ]
}